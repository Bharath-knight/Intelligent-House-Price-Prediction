{
  "cells": [
    {
      "cell_type": "code",
      "execution_count": 2,
      "metadata": {
        "id": "x4X-gjtEUnKf"
      },
      "outputs": [],
      "source": [
        "import numpy as np\n",
        "import pandas as pd\n",
        "import matplotlib.pyplot as plt\n",
        "import seaborn as sns\n",
        "from sklearn.model_selection import train_test_split, cross_val_score\n",
        "from sklearn.metrics import mean_squared_error, r2_score\n",
        "from sklearn.preprocessing import StandardScaler, OrdinalEncoder\n",
        "from tensorflow.keras.layers import Input, Conv2D, MaxPooling2D, Flatten, Dense, Dropout, Activation, BatchNormalization\n",
        "from tensorflow.keras.optimizers import Adam\n",
        "from tensorflow import keras\n",
        "from tensorflow.keras.models import *\n",
        "import cv2\n",
        "import io\n",
        "import os"
      ]
    },
    {
      "cell_type": "markdown",
      "metadata": {
        "id": "N2arlY2PUnKh"
      },
      "source": [
        "\\# Reading Data"
      ]
    },
    {
      "cell_type": "code",
      "execution_count": 3,
      "metadata": {
        "colab": {
          "base_uri": "https://localhost:8080/"
        },
        "id": "T53H2QLlUrsB",
        "outputId": "cf15ce43-c736-410a-a8d5-1d5f20d8af40"
      },
      "outputs": [
        {
          "name": "stdout",
          "output_type": "stream",
          "text": [
            "Mounted at /content/drive\n"
          ]
        }
      ],
      "source": [
        "from google.colab import drive\n",
        "drive.mount('/content/drive')"
      ]
    },
    {
      "cell_type": "code",
      "execution_count": 4,
      "metadata": {
        "id": "T7kLKwlwUnKi"
      },
      "outputs": [],
      "source": [
        "listing = pd.read_csv('/content/drive/MyDrive/Colab Notebooks/listings.csv', sep = ',')\n",
        "\n"
      ]
    },
    {
      "cell_type": "code",
      "execution_count": 5,
      "metadata": {
        "colab": {
          "base_uri": "https://localhost:8080/"
        },
        "id": "nXZh5qN0UnKi",
        "outputId": "65980d17-4a5d-48c6-d782-5c45a15daa85"
      },
      "outputs": [
        {
          "name": "stderr",
          "output_type": "stream",
          "text": [
            "/usr/local/lib/python3.7/dist-packages/ipykernel_launcher.py:1: FutureWarning: The default value of regex will change from True to False in a future version. In addition, single character regular expressions will *not* be treated as literal strings when regex=True.\n",
            "  \"\"\"Entry point for launching an IPython kernel.\n"
          ]
        }
      ],
      "source": [
        "listing['price'] = listing['price'].str.replace(\"$\",\"\")\n",
        "listing['price']  = listing['price'].str.replace(\"'\",\"\")\n",
        "listing['price'] = listing['price'].str.replace(\",\",\"\")\n",
        "listing['price'] = listing['price'].astype('float')"
      ]
    },
    {
      "cell_type": "code",
      "execution_count": 6,
      "metadata": {
        "id": "0uaR7yZ2UnKj"
      },
      "outputs": [],
      "source": [
        "listing['log_price'] = np.log1p(listing['price']) #skewed data"
      ]
    },
    {
      "cell_type": "code",
      "execution_count": 7,
      "metadata": {
        "colab": {
          "base_uri": "https://localhost:8080/",
          "height": 80
        },
        "id": "qWiTiaYvUnKk",
        "outputId": "184866aa-d7ec-47f0-927d-8756d45d73a3"
      },
      "outputs": [
        {
          "data": {
            "text/html": [
              "\n",
              "  <div id=\"df-fe0db3bc-91b6-43c2-ae6e-580dc71c35f7\">\n",
              "    <div class=\"colab-df-container\">\n",
              "      <div>\n",
              "<style scoped>\n",
              "    .dataframe tbody tr th:only-of-type {\n",
              "        vertical-align: middle;\n",
              "    }\n",
              "\n",
              "    .dataframe tbody tr th {\n",
              "        vertical-align: top;\n",
              "    }\n",
              "\n",
              "    .dataframe thead th {\n",
              "        text-align: right;\n",
              "    }\n",
              "</style>\n",
              "<table border=\"1\" class=\"dataframe\">\n",
              "  <thead>\n",
              "    <tr style=\"text-align: right;\">\n",
              "      <th></th>\n",
              "      <th>property_type</th>\n",
              "      <th>room_type</th>\n",
              "      <th>bathrooms</th>\n",
              "      <th>bedrooms</th>\n",
              "      <th>bed_type</th>\n",
              "      <th>accommodates</th>\n",
              "      <th>guests_included</th>\n",
              "      <th>neighbourhood_group_cleansed</th>\n",
              "      <th>review_scores_rating</th>\n",
              "      <th>log_price</th>\n",
              "    </tr>\n",
              "  </thead>\n",
              "  <tbody>\n",
              "    <tr>\n",
              "      <th>0</th>\n",
              "      <td>Apartment</td>\n",
              "      <td>Entire home/apt</td>\n",
              "      <td>1.0</td>\n",
              "      <td>1.0</td>\n",
              "      <td>Real Bed</td>\n",
              "      <td>4</td>\n",
              "      <td>2</td>\n",
              "      <td>Queen Anne</td>\n",
              "      <td>95.0</td>\n",
              "      <td>4.454347</td>\n",
              "    </tr>\n",
              "  </tbody>\n",
              "</table>\n",
              "</div>\n",
              "      <button class=\"colab-df-convert\" onclick=\"convertToInteractive('df-fe0db3bc-91b6-43c2-ae6e-580dc71c35f7')\"\n",
              "              title=\"Convert this dataframe to an interactive table.\"\n",
              "              style=\"display:none;\">\n",
              "        \n",
              "  <svg xmlns=\"http://www.w3.org/2000/svg\" height=\"24px\"viewBox=\"0 0 24 24\"\n",
              "       width=\"24px\">\n",
              "    <path d=\"M0 0h24v24H0V0z\" fill=\"none\"/>\n",
              "    <path d=\"M18.56 5.44l.94 2.06.94-2.06 2.06-.94-2.06-.94-.94-2.06-.94 2.06-2.06.94zm-11 1L8.5 8.5l.94-2.06 2.06-.94-2.06-.94L8.5 2.5l-.94 2.06-2.06.94zm10 10l.94 2.06.94-2.06 2.06-.94-2.06-.94-.94-2.06-.94 2.06-2.06.94z\"/><path d=\"M17.41 7.96l-1.37-1.37c-.4-.4-.92-.59-1.43-.59-.52 0-1.04.2-1.43.59L10.3 9.45l-7.72 7.72c-.78.78-.78 2.05 0 2.83L4 21.41c.39.39.9.59 1.41.59.51 0 1.02-.2 1.41-.59l7.78-7.78 2.81-2.81c.8-.78.8-2.07 0-2.86zM5.41 20L4 18.59l7.72-7.72 1.47 1.35L5.41 20z\"/>\n",
              "  </svg>\n",
              "      </button>\n",
              "      \n",
              "  <style>\n",
              "    .colab-df-container {\n",
              "      display:flex;\n",
              "      flex-wrap:wrap;\n",
              "      gap: 12px;\n",
              "    }\n",
              "\n",
              "    .colab-df-convert {\n",
              "      background-color: #E8F0FE;\n",
              "      border: none;\n",
              "      border-radius: 50%;\n",
              "      cursor: pointer;\n",
              "      display: none;\n",
              "      fill: #1967D2;\n",
              "      height: 32px;\n",
              "      padding: 0 0 0 0;\n",
              "      width: 32px;\n",
              "    }\n",
              "\n",
              "    .colab-df-convert:hover {\n",
              "      background-color: #E2EBFA;\n",
              "      box-shadow: 0px 1px 2px rgba(60, 64, 67, 0.3), 0px 1px 3px 1px rgba(60, 64, 67, 0.15);\n",
              "      fill: #174EA6;\n",
              "    }\n",
              "\n",
              "    [theme=dark] .colab-df-convert {\n",
              "      background-color: #3B4455;\n",
              "      fill: #D2E3FC;\n",
              "    }\n",
              "\n",
              "    [theme=dark] .colab-df-convert:hover {\n",
              "      background-color: #434B5C;\n",
              "      box-shadow: 0px 1px 3px 1px rgba(0, 0, 0, 0.15);\n",
              "      filter: drop-shadow(0px 1px 2px rgba(0, 0, 0, 0.3));\n",
              "      fill: #FFFFFF;\n",
              "    }\n",
              "  </style>\n",
              "\n",
              "      <script>\n",
              "        const buttonEl =\n",
              "          document.querySelector('#df-fe0db3bc-91b6-43c2-ae6e-580dc71c35f7 button.colab-df-convert');\n",
              "        buttonEl.style.display =\n",
              "          google.colab.kernel.accessAllowed ? 'block' : 'none';\n",
              "\n",
              "        async function convertToInteractive(key) {\n",
              "          const element = document.querySelector('#df-fe0db3bc-91b6-43c2-ae6e-580dc71c35f7');\n",
              "          const dataTable =\n",
              "            await google.colab.kernel.invokeFunction('convertToInteractive',\n",
              "                                                     [key], {});\n",
              "          if (!dataTable) return;\n",
              "\n",
              "          const docLinkHtml = 'Like what you see? Visit the ' +\n",
              "            '<a target=\"_blank\" href=https://colab.research.google.com/notebooks/data_table.ipynb>data table notebook</a>'\n",
              "            + ' to learn more about interactive tables.';\n",
              "          element.innerHTML = '';\n",
              "          dataTable['output_type'] = 'display_data';\n",
              "          await google.colab.output.renderOutput(dataTable, element);\n",
              "          const docLink = document.createElement('div');\n",
              "          docLink.innerHTML = docLinkHtml;\n",
              "          element.appendChild(docLink);\n",
              "        }\n",
              "      </script>\n",
              "    </div>\n",
              "  </div>\n",
              "  "
            ],
            "text/plain": [
              "  property_type        room_type  ...  review_scores_rating  log_price\n",
              "0     Apartment  Entire home/apt  ...                  95.0   4.454347\n",
              "\n",
              "[1 rows x 10 columns]"
            ]
          },
          "execution_count": 7,
          "metadata": {},
          "output_type": "execute_result"
        }
      ],
      "source": [
        "df = listing[['property_type', 'room_type', 'bathrooms', 'bedrooms', 'bed_type',  'accommodates', \n",
        "              'guests_included', 'neighbourhood_group_cleansed', \n",
        "              'review_scores_rating', 'log_price']]\n",
        "df.head(1)"
      ]
    },
    {
      "cell_type": "code",
      "execution_count": 8,
      "metadata": {
        "id": "NqcQ18fhUnKl"
      },
      "outputs": [],
      "source": [
        "df = df.drop(labels=2476, axis=0) #removing column with http error"
      ]
    },
    {
      "cell_type": "markdown",
      "metadata": {
        "id": "OKbZ6rMXUnKl"
      },
      "source": [
        "# Taking care of null data and encoding"
      ]
    },
    {
      "cell_type": "code",
      "execution_count": 9,
      "metadata": {
        "id": "1JjKoO1JUnKm"
      },
      "outputs": [],
      "source": [
        "df['property_type'].fillna(value='missing', inplace=True) \n",
        "df['room_type'].fillna(value='missing', inplace=True) \n",
        "df['bed_type'].fillna(value='missing', inplace=True) \n",
        "df['neighbourhood_group_cleansed'].fillna(value='missing', inplace=True)"
      ]
    },
    {
      "cell_type": "code",
      "execution_count": 10,
      "metadata": {
        "id": "dd_tJAUkUnKn"
      },
      "outputs": [],
      "source": [
        "df['bathrooms'].fillna(df['bathrooms'].mean(), inplace=True)\n",
        "df['bedrooms'].fillna(df['bedrooms'].mean(), inplace=True)\n",
        "df['review_scores_rating'].fillna(df['review_scores_rating'].mean(), inplace=True)"
      ]
    },
    {
      "cell_type": "code",
      "execution_count": 11,
      "metadata": {
        "id": "yynyRvdxUnKn"
      },
      "outputs": [],
      "source": [
        "cols = ['property_type', 'room_type', 'bed_type', 'neighbourhood_group_cleansed']"
      ]
    },
    {
      "cell_type": "code",
      "execution_count": 12,
      "metadata": {
        "id": "FG7giWSNUnKo"
      },
      "outputs": [],
      "source": [
        "data = df\n",
        "oe = OrdinalEncoder()\n",
        "data[cols] = oe.fit_transform(data[cols])"
      ]
    },
    {
      "cell_type": "markdown",
      "metadata": {
        "id": "ZUnlXlGqUnKo"
      },
      "source": [
        "# reading images"
      ]
    },
    {
      "cell_type": "code",
      "execution_count": 13,
      "metadata": {
        "id": "JUC1TFv3UnKp"
      },
      "outputs": [],
      "source": [
        "import urllib\n",
        "from urllib.error import HTTPError\n",
        "import skimage.io\n",
        "images=[]\n",
        "img_price = np.zeros((3818,1))\n",
        "for i in range(3818):\n",
        "    try:\n",
        "        img = skimage.io.imread(listing['picture_url'][i])\n",
        "        img = cv2.resize(img, (128, 128))\n",
        "        images.append(img)\n",
        "    except HTTPError as exception: \n",
        "        pass "
      ]
    },
    {
      "cell_type": "code",
      "execution_count": 20,
      "metadata": {
        "colab": {
          "base_uri": "https://localhost:8080/",
          "height": 183
        },
        "id": "PNuQIzWwUnKq",
        "outputId": "44d33f50-b1d0-4e75-dcf0-823032f37b80"
      },
      "outputs": [
        {
          "ename": "TypeError",
          "evalue": "ignored",
          "output_type": "error",
          "traceback": [
            "\u001b[0;31m---------------------------------------------------------------------------\u001b[0m",
            "\u001b[0;31mTypeError\u001b[0m                                 Traceback (most recent call last)",
            "\u001b[0;32m<ipython-input-20-f1f84b127759>\u001b[0m in \u001b[0;36m<module>\u001b[0;34m()\u001b[0m\n\u001b[1;32m      1\u001b[0m \u001b[0;31m# images = np.array(images)\u001b[0m\u001b[0;34m\u001b[0m\u001b[0;34m\u001b[0m\u001b[0;34m\u001b[0m\u001b[0m\n\u001b[0;32m----> 2\u001b[0;31m \u001b[0mimages\u001b[0m \u001b[0;34m=\u001b[0m \u001b[0mimages\u001b[0m \u001b[0;34m/\u001b[0m \u001b[0;36m255\u001b[0m \u001b[0;31m#scaling\u001b[0m\u001b[0;34m\u001b[0m\u001b[0;34m\u001b[0m\u001b[0m\n\u001b[0m",
            "\u001b[0;31mTypeError\u001b[0m: unsupported operand type(s) for /: 'list' and 'int'"
          ]
        }
      ],
      "source": [
        "# images = np.array(images)\n",
        "images = images / 255 #scaling"
      ]
    },
    {
      "cell_type": "markdown",
      "metadata": {
        "id": "miKXDUPgUnKq"
      },
      "source": [
        "# scaling data"
      ]
    },
    {
      "cell_type": "code",
      "execution_count": null,
      "metadata": {
        "id": "oiu9NWhsUnKq"
      },
      "outputs": [],
      "source": [
        "scaler = StandardScaler()\n",
        "data = scaler.fit_transform(data)"
      ]
    },
    {
      "cell_type": "code",
      "execution_count": null,
      "metadata": {
        "id": "L4QmDuKvUnKr"
      },
      "outputs": [],
      "source": [
        "data = pd.DataFrame(data)\n",
        "data.describe()"
      ]
    },
    {
      "cell_type": "markdown",
      "metadata": {
        "id": "K4J_z1MLUnKr"
      },
      "source": [
        "# Neural networks"
      ]
    },
    {
      "cell_type": "code",
      "execution_count": null,
      "metadata": {
        "id": "4HhouXeNUnKr"
      },
      "outputs": [],
      "source": [
        "def create_ann(dim, regress=False):\n",
        "    model = Sequential()\n",
        "    model.add(Dense(8, input_dim=dim, activation=\"relu\"))\n",
        "    model.add(Dense(4, activation=\"relu\"))\n",
        "    return model"
      ]
    },
    {
      "cell_type": "code",
      "execution_count": null,
      "metadata": {
        "id": "agduTIPGUnKs"
      },
      "outputs": [],
      "source": [
        "def create_cnn(width, height, depth, filters=(16, 32, 64), regress=False):\n",
        "    \n",
        "    inputShape = (height, width, depth)\n",
        "    chanDim = -1\n",
        "    inputs = Input(shape=inputShape)\n",
        "    \n",
        "    x = Conv2D(16, (3, 3), padding=\"same\")(inputs)\n",
        "    x = Activation(\"relu\")(x)\n",
        "    x = BatchNormalization(axis=chanDim)(x)\n",
        "    x = MaxPooling2D(pool_size=(2, 2))(x)\n",
        "    \n",
        "    x = Conv2D(32, (3, 3), padding=\"same\")(x)\n",
        "    x = Activation(\"relu\")(x)\n",
        "    x = BatchNormalization(axis=chanDim)(x)\n",
        "    x = MaxPooling2D(pool_size=(2, 2))(x)\n",
        "    \n",
        "    x = Conv2D(64, (3, 3), padding=\"same\")(x)\n",
        "    x = Activation(\"relu\")(x)\n",
        "    x = BatchNormalization(axis=chanDim)(x)\n",
        "    x = MaxPooling2D(pool_size=(2, 2))(x)\n",
        "    \n",
        "    x = Flatten()(x)\n",
        "    x = Dense(16)(x)\n",
        "    x = Activation(\"relu\")(x)\n",
        "    x = BatchNormalization(axis=chanDim)(x)\n",
        "    x = Dropout(0.5)(x)\n",
        "\n",
        "    x = Dense(4)(x)\n",
        "    x = Activation(\"relu\")(x)\n",
        "    \n",
        "    model = Model(inputs, x)\n",
        "    \n",
        "    return model"
      ]
    },
    {
      "cell_type": "code",
      "execution_count": null,
      "metadata": {
        "id": "jcrXUQa8UnKt"
      },
      "outputs": [],
      "source": [
        "from sklearn.model_selection import train_test_split\n",
        "\n",
        "split = train_test_split(data, images, test_size=0.25, random_state=42)\n",
        "\n",
        "(Xatt_train, Xatt_test, Ximage_train, Ximage_test) = split\n",
        "y_train, y_test = Xatt_train[9].values, Xatt_test[9].values\n",
        "\n",
        "X1_train = Xatt_train[[0,1,2,3,4,5,6,7,8]].values #numerical \n",
        "X2_train = Ximage_train #images\n",
        "X1_test = Xatt_test[[0,1,2,3,4,5,6,7,8]].values\n",
        "X2_test = Ximage_test\n",
        "\n",
        "print(X1_train.shape, X1_test.shape, X2_train.shape, X2_test.shape, y_train.shape, y_test.shape)"
      ]
    },
    {
      "cell_type": "code",
      "execution_count": null,
      "metadata": {
        "id": "RKdBajBiUnKt"
      },
      "outputs": [],
      "source": [
        "from tensorflow.keras.layers import concatenate\n",
        "mlp = create_ann(X1_train.shape[1], regress=False)\n",
        "cnn = create_cnn(128, 128, 3, regress=False)\n",
        "combinedInput = concatenate([mlp.output, cnn.output])\n",
        "\n",
        "x = Dense(4, activation=\"relu\")(combinedInput)\n",
        "x = Dense(1, activation=\"linear\")(x)"
      ]
    },
    {
      "cell_type": "code",
      "execution_count": null,
      "metadata": {
        "id": "UIcSNU14UnKu"
      },
      "outputs": [],
      "source": [
        "X1_train = np.array(X1_train)\n",
        "X1_test = np.array(X1_test)\n",
        "X2_test = np.array(X2_test)\n",
        "X2_train = np.array(X2_train)"
      ]
    },
    {
      "cell_type": "code",
      "execution_count": null,
      "metadata": {
        "id": "9stQhI10UnKv"
      },
      "outputs": [],
      "source": [
        "from tensorflow.keras.optimizers import Adam\n",
        "model = Model(inputs=[mlp.input, cnn.input], outputs=x)\n",
        "opt = Adam(lr=1e-3, decay=1e-4 / 200)\n",
        "model.compile(loss=\"mse\", optimizer=opt)\n",
        "\n",
        "print(\"[INFO] training model...\")\n",
        "model.fit(x=[X1_train, X2_train], y=y_train, validation_data=([X1_test, X2_test], y_test),epochs=10, batch_size=64)"
      ]
    },
    {
      "cell_type": "markdown",
      "metadata": {
        "id": "ciGSt56aUnKw"
      },
      "source": [
        "# Testing data"
      ]
    },
    {
      "cell_type": "code",
      "execution_count": null,
      "metadata": {
        "id": "f_sOZJdgUnKw"
      },
      "outputs": [],
      "source": [
        "df = listing[['property_type', 'room_type', 'bathrooms', 'bedrooms', 'bed_type',  'accommodates', \n",
        "              'guests_included', 'neighbourhood_group_cleansed', \n",
        "              'review_scores_rating', 'log_price']]\n",
        "attr_sample=df.head(1)"
      ]
    },
    {
      "cell_type": "code",
      "execution_count": null,
      "metadata": {
        "id": "frvOs2bYUnKx"
      },
      "outputs": [],
      "source": [
        "image_sample = skimage.io.imread(listing['picture_url'][1])\n",
        "sample_resized=cv2.resize(image_sample,(128,128))\n",
        "plt.imshow(sample_resized)\n",
        "X2_final = sample_resized/255 #image"
      ]
    },
    {
      "cell_type": "code",
      "execution_count": null,
      "metadata": {
        "id": "7SA6IHVpUnKy"
      },
      "outputs": [],
      "source": [
        "attr_sample[cols] = oe.fit_transform(attr_sample[cols])"
      ]
    },
    {
      "cell_type": "code",
      "execution_count": null,
      "metadata": {
        "id": "TIboxWW5UnKy"
      },
      "outputs": [],
      "source": [
        "y_ground_truth=attr_sample['log_price']\n",
        "X1_final= attr_sample[['property_type', 'room_type', 'bathrooms', 'bedrooms', 'bed_type',  'accommodates', \n",
        "              'guests_included', 'neighbourhood_group_cleansed', \n",
        "              'review_scores_rating']]"
      ]
    },
    {
      "cell_type": "code",
      "execution_count": null,
      "metadata": {
        "id": "1I4MC1Y2UnKz"
      },
      "outputs": [],
      "source": [
        "ss = StandardScaler()\n",
        "X1_final = ss.fit_transform(X1_final) #X1 shape is 1x9"
      ]
    },
    {
      "cell_type": "code",
      "execution_count": null,
      "metadata": {
        "id": "wUb60BkFUnKz"
      },
      "outputs": [],
      "source": [
        "X1_final=np.array(X1_final)\n",
        "print(X1_final.shape,\" \",X2_final.shape)\n",
        "y_pred = model.predict([np.reshape(X1_final,(1,9)),np.reshape(X2_final,(1,128,128,3))]) #MLP input and CNN input"
      ]
    },
    {
      "cell_type": "code",
      "execution_count": null,
      "metadata": {
        "id": "JUR96zqnUnK0"
      },
      "outputs": [],
      "source": [
        "X1_final = pd.DataFrame(X1_final) #array to dataframe\n",
        "X1_final[9] = y_pred #appending the price column \n",
        "X1_final = np.array(X1_final) # 1x10"
      ]
    },
    {
      "cell_type": "code",
      "execution_count": null,
      "metadata": {
        "id": "YKLW2pMFUnK0"
      },
      "outputs": [],
      "source": [
        "X1_final = scaler.inverse_transform(X1_final)\n",
        "X1_final = pd.DataFrame(X1_final)"
      ]
    },
    {
      "cell_type": "code",
      "execution_count": null,
      "metadata": {
        "id": "alW3CWOLUnK0"
      },
      "outputs": [],
      "source": [
        "print(\"Actual price: \",attr_sample['log_price'].values)\n",
        "print(\"Predicted price: \", X1_final[9].values)"
      ]
    },
    {
      "cell_type": "markdown",
      "metadata": {
        "id": "Iddn6yFRUnK1"
      },
      "source": [
        "# Test case 2"
      ]
    },
    {
      "cell_type": "code",
      "execution_count": null,
      "metadata": {
        "id": "ZsJsFER6UnK1"
      },
      "outputs": [],
      "source": [
        "data = { 'property_type':[2], 'room_type':[2], 'bathrooms':[1], 'bedrooms':[1], 'bed_type':[1], \n",
        "        'accommodates':[16], 'guests_included':[15], 'neighbourhood_group_cleansed':[16], 'review_scores_rating':[42]}\n",
        "attr_sample = pd.DataFrame(data)"
      ]
    },
    {
      "cell_type": "code",
      "execution_count": null,
      "metadata": {
        "id": "8c9MkRJ3UnK1"
      },
      "outputs": [],
      "source": [
        "image_sample = skimage.io.imread('C:/Users/Krishi Vijayanand/Downloads/socal_data/socal_pics/424.jpg')\n",
        "sample_resized=cv2.resize(image_sample,(128,128))\n",
        "plt.imshow(sample_resized)\n",
        "X2_final = sample_resized/255"
      ]
    },
    {
      "cell_type": "code",
      "execution_count": null,
      "metadata": {
        "id": "s1bT0mQKUnK2"
      },
      "outputs": [],
      "source": [
        "X1_final = attr_sample\n",
        "X1_final = scaler.fit_transform(X1_final)\n",
        "X1_final=np.array(X1_final)\n",
        "y_pred=model.predict([np.reshape(X1_final,(1,9)),np.reshape(X2_final,(1,128,128,3))])"
      ]
    },
    {
      "cell_type": "code",
      "execution_count": null,
      "metadata": {
        "id": "P0n9wGHhUnK2"
      },
      "outputs": [],
      "source": [
        "chumma = df\n",
        "chumma = scaler.fit_transform(chumma)"
      ]
    },
    {
      "cell_type": "code",
      "execution_count": null,
      "metadata": {
        "id": "6uQyFc2yUnK2"
      },
      "outputs": [],
      "source": [
        "X1_final = pd.DataFrame(X1_final)"
      ]
    },
    {
      "cell_type": "code",
      "execution_count": null,
      "metadata": {
        "id": "ZrYQrlDpUnK2"
      },
      "outputs": [],
      "source": [
        "X1_final[9] = y_pred\n",
        "X1_final = np.array(X1_final)"
      ]
    },
    {
      "cell_type": "code",
      "execution_count": null,
      "metadata": {
        "id": "XYMGidyXUnK3"
      },
      "outputs": [],
      "source": [
        "X1_final = scaler.inverse_transform(X1_final)"
      ]
    },
    {
      "cell_type": "code",
      "execution_count": null,
      "metadata": {
        "id": "rPGD0jWWUnK3"
      },
      "outputs": [],
      "source": [
        "X1_final = pd.DataFrame(X1_final)"
      ]
    },
    {
      "cell_type": "code",
      "execution_count": 15,
      "metadata": {
        "colab": {
          "base_uri": "https://localhost:8080/",
          "height": 166
        },
        "id": "pvKWvWDRUnK3",
        "outputId": "bf254c8d-6048-4a5b-e6c6-25e2174817dc"
      },
      "outputs": [
        {
          "ename": "NameError",
          "evalue": "ignored",
          "output_type": "error",
          "traceback": [
            "\u001b[0;31m---------------------------------------------------------------------------\u001b[0m",
            "\u001b[0;31mNameError\u001b[0m                                 Traceback (most recent call last)",
            "\u001b[0;32m<ipython-input-15-0d18b0e6c302>\u001b[0m in \u001b[0;36m<module>\u001b[0;34m()\u001b[0m\n\u001b[0;32m----> 1\u001b[0;31m \u001b[0mprint\u001b[0m\u001b[0;34m(\u001b[0m\u001b[0;34m\"Predicted price: \"\u001b[0m\u001b[0;34m,\u001b[0m \u001b[0mnp\u001b[0m\u001b[0;34m.\u001b[0m\u001b[0mexpm1\u001b[0m\u001b[0;34m(\u001b[0m\u001b[0mX1_final\u001b[0m\u001b[0;34m[\u001b[0m\u001b[0;36m9\u001b[0m\u001b[0;34m]\u001b[0m\u001b[0;34m.\u001b[0m\u001b[0mvalues\u001b[0m\u001b[0;34m)\u001b[0m\u001b[0;34m)\u001b[0m\u001b[0;34m\u001b[0m\u001b[0;34m\u001b[0m\u001b[0m\n\u001b[0m",
            "\u001b[0;31mNameError\u001b[0m: name 'X1_final' is not defined"
          ]
        }
      ],
      "source": [
        "print(\"Predicted price: \", np.expm1(X1_final[9].values))"
      ]
    },
    {
      "cell_type": "code",
      "execution_count": null,
      "metadata": {
        "id": "PSPk2MpsUnK3"
      },
      "outputs": [],
      "source": []
    },
    {
      "cell_type": "code",
      "execution_count": null,
      "metadata": {
        "id": "aSAFLQu8UnK3"
      },
      "outputs": [],
      "source": []
    }
  ],
  "metadata": {
    "colab": {
      "name": "seattle_kris_is_tcrying_2.ipynb",
      "provenance": []
    },
    "kernelspec": {
      "display_name": "Python 3",
      "language": "python",
      "name": "python3"
    },
    "language_info": {
      "codemirror_mode": {
        "name": "ipython",
        "version": 3
      },
      "file_extension": ".py",
      "mimetype": "text/x-python",
      "name": "python",
      "nbconvert_exporter": "python",
      "pygments_lexer": "ipython3",
      "version": "3.7.4"
    }
  },
  "nbformat": 4,
  "nbformat_minor": 0
}
